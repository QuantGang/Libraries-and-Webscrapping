{
 "cells": [
  {
   "cell_type": "code",
   "execution_count": 3,
   "metadata": {},
   "outputs": [
    {
     "name": "stdout",
     "output_type": "stream",
     "text": [
      "Collecting package metadata (current_repodata.json): ...working... done\n",
      "Solving environment: ...working... done\n",
      "\n",
      "## Package Plan ##\n",
      "\n",
      "  environment location: C:\\Users\\Sebastian\\anaconda3\n",
      "\n",
      "  added / updated specs:\n",
      "    - quandl\n",
      "\n",
      "\n",
      "The following packages will be downloaded:\n",
      "\n",
      "    package                    |            build\n",
      "    ---------------------------|-----------------\n",
      "    inflection-0.3.1           |           py37_1          11 KB  anaconda\n",
      "    quandl-3.4.8               |           py37_0          48 KB  anaconda\n",
      "    ------------------------------------------------------------\n",
      "                                           Total:          60 KB\n",
      "\n",
      "The following NEW packages will be INSTALLED:\n",
      "\n",
      "  inflection         anaconda/win-64::inflection-0.3.1-py37_1\n",
      "  quandl             anaconda/win-64::quandl-3.4.8-py37_0\n",
      "\n",
      "\n",
      "\n",
      "Downloading and Extracting Packages\n",
      "\n",
      "inflection-0.3.1     | 11 KB     |            |   0% \n",
      "inflection-0.3.1     | 11 KB     | ########## | 100% \n",
      "\n",
      "quandl-3.4.8         | 48 KB     |            |   0% \n",
      "quandl-3.4.8         | 48 KB     | ###3       |  33% \n",
      "quandl-3.4.8         | 48 KB     | ########## | 100% \n",
      "Preparing transaction: ...working... done\n",
      "Verifying transaction: ...working... done\n",
      "Executing transaction: ...working... done\n",
      "\n",
      "Note: you may need to restart the kernel to use updated packages.\n"
     ]
    },
    {
     "name": "stderr",
     "output_type": "stream",
     "text": [
      "WARNING conda.gateways.disk.delete:unlink_or_rename_to_trash(140): Could not remove or rename C:\\Users\\Sebastian\\anaconda3\\pkgs\\openssl-1.1.1d-he774522_4.tar.bz2.  Please remove this file manually (you may need to reboot to free file handles)\n"
     ]
    }
   ],
   "source": [
    "conda install -c https://conda.anaconda.org/anaconda quandl"
   ]
  },
  {
   "cell_type": "code",
   "execution_count": 5,
   "metadata": {},
   "outputs": [],
   "source": [
    "import quandl"
   ]
  },
  {
   "cell_type": "code",
   "execution_count": 22,
   "metadata": {},
   "outputs": [],
   "source": [
    "quandl.ApiConfig.api_key = 'MAw8Azn82MA3iLGtzFyz'"
   ]
  },
  {
   "cell_type": "code",
   "execution_count": 30,
   "metadata": {},
   "outputs": [],
   "source": [
    "peguelo=quandl.get_table('ZACKS/EEH', ticker='AAPL', per_end_date='2018-09-30,2019-09-30,2020-09-30')"
   ]
  },
  {
   "cell_type": "code",
   "execution_count": 31,
   "metadata": {},
   "outputs": [
    {
     "name": "stdout",
     "output_type": "stream",
     "text": [
      "     m_ticker ticker  comp_name exchange currency_code per_end_date per_type  \\\n",
      "None                                                                           \n",
      "0        AAPL   AAPL  APPLE INC     NSDQ           USD   2018-09-30        A   \n",
      "1        AAPL   AAPL  APPLE INC     NSDQ           USD   2018-09-30        A   \n",
      "2        AAPL   AAPL  APPLE INC     NSDQ           USD   2018-09-30        A   \n",
      "3        AAPL   AAPL  APPLE INC     NSDQ           USD   2018-09-30        A   \n",
      "4        AAPL   AAPL  APPLE INC     NSDQ           USD   2018-09-30        A   \n",
      "...       ...    ...        ...      ...           ...          ...      ...   \n",
      "213      AAPL   AAPL  APPLE INC     NSDQ           USD   2020-09-30        Q   \n",
      "214      AAPL   AAPL  APPLE INC     NSDQ           USD   2020-09-30        Q   \n",
      "215      AAPL   AAPL  APPLE INC     NSDQ           USD   2020-09-30        Q   \n",
      "216      AAPL   AAPL  APPLE INC     NSDQ           USD   2020-09-30        Q   \n",
      "217      AAPL   AAPL  APPLE INC     NSDQ           USD   2020-09-30        Q   \n",
      "\n",
      "      per_fisc_year  per_fisc_qtr  per_cal_year  per_cal_qtr   obs_date  \\\n",
      "None                                                                      \n",
      "0              2018             4          2018            3 2018-01-01   \n",
      "1              2018             4          2018            3 2018-01-17   \n",
      "2              2018             4          2018            3 2018-01-19   \n",
      "3              2018             4          2018            3 2018-01-23   \n",
      "4              2018             4          2018            3 2018-01-25   \n",
      "...             ...           ...           ...          ...        ...   \n",
      "213            2020             4          2020            3 2018-11-02   \n",
      "214            2020             4          2020            3 2018-12-03   \n",
      "215            2020             4          2020            3 2018-12-07   \n",
      "216            2020             4          2020            3 2018-12-10   \n",
      "217            2020             4          2020            3 2018-12-13   \n",
      "\n",
      "      eps_mean_est  eps_median_est  eps_cnt_est  eps_high_est  eps_low_est  \\\n",
      "None                                                                         \n",
      "0        11.184167       11.115001           12         13.00        10.39   \n",
      "1        11.155000       11.115001           12         13.00        10.39   \n",
      "2        11.169091       11.170000           11         13.00        10.39   \n",
      "3        11.196364       11.170000           11         13.30        10.39   \n",
      "4        11.169091       11.170000           11         13.00        10.39   \n",
      "...            ...             ...          ...           ...          ...   \n",
      "213       3.422500        3.330000            4          3.81         3.22   \n",
      "214       3.422500        3.330000            4          3.81         3.22   \n",
      "215       3.412500        3.330000            4          3.77         3.22   \n",
      "216       3.402500        3.330000            4          3.65         3.30   \n",
      "217       3.410000        3.345000            4          3.65         3.30   \n",
      "\n",
      "      eps_std_dev_est  eps_cnt_est_rev_up  eps_cnt_est_rev_down  \n",
      "None                                                             \n",
      "0            0.691079                   0                     0  \n",
      "1            0.679218                   0                     1  \n",
      "2            0.710527                   0                     0  \n",
      "3            0.789231                   1                     0  \n",
      "4            0.710527                   0                     1  \n",
      "...               ...                 ...                   ...  \n",
      "213          0.263613                   0                     0  \n",
      "214          0.263613                   0                     0  \n",
      "215          0.244046                   0                     1  \n",
      "216          0.165806                   1                     1  \n",
      "217          0.162686                   1                     0  \n",
      "\n",
      "[218 rows x 20 columns]\n"
     ]
    }
   ],
   "source": [
    "print(peguelo)"
   ]
  },
  {
   "cell_type": "code",
   "execution_count": 23,
   "metadata": {},
   "outputs": [],
   "source": [
    "mydata = quandl.get_table('ZACKS/IRH', ticker='AAPL')"
   ]
  },
  {
   "cell_type": "code",
   "execution_count": 24,
   "metadata": {},
   "outputs": [],
   "source": [
    "data = quandl.get_table('ZACKS/IRH', paginate=True)"
   ]
  },
  {
   "cell_type": "code",
   "execution_count": 26,
   "metadata": {},
   "outputs": [],
   "source": [
    "data = quandl.get_table('ZACKS/IRH', paginate=True, ticker='AAPL', qopts={'columns': ['ticker', 'per_end_date']})"
   ]
  },
  {
   "cell_type": "code",
   "execution_count": 27,
   "metadata": {},
   "outputs": [],
   "source": [
    "data = quandl.get_table('ZACKS/IRH', paginate=True, ticker=['AAPL', 'MSFT'], per_end_date={'gte': '2015-01-01'}, qopts={'columns':['ticker', 'per_end_date']})"
   ]
  },
  {
   "cell_type": "code",
   "execution_count": 29,
   "metadata": {},
   "outputs": [
    {
     "name": "stdout",
     "output_type": "stream",
     "text": [
      "     ticker per_end_date\n",
      "None                    \n",
      "0      AAPL   2018-03-31\n",
      "1      AAPL   2018-06-30\n",
      "2      AAPL   2018-09-30\n",
      "3      AAPL   2018-12-31\n",
      "4      AAPL   2018-12-31\n",
      "5      MSFT   2018-03-31\n",
      "6      MSFT   2018-12-31\n"
     ]
    }
   ],
   "source": [
    "print(data)"
   ]
  },
  {
   "cell_type": "code",
   "execution_count": null,
   "metadata": {},
   "outputs": [],
   "source": []
  }
 ],
 "metadata": {
  "kernelspec": {
   "display_name": "Python 3",
   "language": "python",
   "name": "python3"
  },
  "language_info": {
   "codemirror_mode": {
    "name": "ipython",
    "version": 3
   },
   "file_extension": ".py",
   "mimetype": "text/x-python",
   "name": "python",
   "nbconvert_exporter": "python",
   "pygments_lexer": "ipython3",
   "version": "3.7.6"
  }
 },
 "nbformat": 4,
 "nbformat_minor": 4
}
