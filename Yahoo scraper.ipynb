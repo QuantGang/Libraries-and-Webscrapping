{
 "cells": [
  {
   "cell_type": "code",
   "execution_count": 4,
   "metadata": {},
   "outputs": [
    {
     "name": "stdout",
     "output_type": "stream",
     "text": [
      "['Jan 27, 2021, 3 PMEST', 'Oct 21, 2020, 2 PMEST', 'Jul 22, 2020, 2 PMEST', 'Apr 30, 2020, 12 AMEST', 'Jan 29, 2020, 9 PMEST', 'Oct 23, 2019, 8 PMEST', 'Jul 24, 2019, 8 PMEST', 'Apr 24, 2019, 9 PMEST', 'Jan 30, 2019, 9 PMEST', 'Oct 24, 2018, 8 PMEST', 'Aug 01, 2018, 8 PMEST', 'May 02, 2018, 8 PMEST', 'Feb 07, 2018, 9 PMEST', 'Nov 01, 2017, 8 PMEST', 'Aug 02, 2017, 8 PMEST', 'May 03, 2017, 8 PMEST', 'Feb 22, 2017, 9 PMEST']\n"
     ]
    }
   ],
   "source": [
    "from bs4 import BeautifulSoup as soup\n",
    "import urllib.request\n",
    "\n",
    "url = 'https://finance.yahoo.com/calendar/earnings?day=2020-04-25&symbol=tsla'\n",
    "\n",
    "response = urllib.request.urlopen(url)\n",
    "html = response.read()\n",
    "\n",
    "page_soup = soup(html,'lxml')\n",
    "table = page_soup.find_all('td')\n",
    "Dates = []\n",
    "for something in table:\n",
    "    try:\n",
    "        if something['aria-label'] == \"Earnings Date\":\n",
    "            Dates.append(something.text)\n",
    "    except:\n",
    "        print('')\n",
    "\n",
    "print(Dates)\n"
   ]
  },
  {
   "cell_type": "code",
   "execution_count": null,
   "metadata": {},
   "outputs": [],
   "source": []
  }
 ],
 "metadata": {
  "kernelspec": {
   "display_name": "Python 3",
   "language": "python",
   "name": "python3"
  },
  "language_info": {
   "codemirror_mode": {
    "name": "ipython",
    "version": 3
   },
   "file_extension": ".py",
   "mimetype": "text/x-python",
   "name": "python",
   "nbconvert_exporter": "python",
   "pygments_lexer": "ipython3",
   "version": "3.7.6"
  }
 },
 "nbformat": 4,
 "nbformat_minor": 4
}
